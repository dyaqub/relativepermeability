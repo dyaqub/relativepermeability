{
 "cells": [
  {
   "cell_type": "code",
   "execution_count": 1,
   "metadata": {},
   "outputs": [],
   "source": [
    "import math\n",
    "import pandas as pd\n",
    "import numpy as np\n",
    "import matplotlib.pyplot as plt\n",
    "from sklearn.preprocessing import MinMaxScaler\n",
    "from sklearn.svm import SVR\n",
    "from sklearn.model_selection import GridSearchCV, cross_validate\n",
    "from sklearn.utils import shuffle\n",
    "from sklearn.model_selection import learning_curve\n",
    "from sklearn.kernel_ridge import KernelRidge"
   ]
  },
  {
   "cell_type": "code",
   "execution_count": 2,
   "metadata": {},
   "outputs": [
    {
     "data": {
      "text/plain": [
       "(900, 8)"
      ]
     },
     "execution_count": 2,
     "metadata": {},
     "output_type": "execute_result"
    }
   ],
   "source": [
    "#import file\n",
    "df = pd.read_excel('realperm.xlsx')\n",
    "df.shape"
   ]
  },
  {
   "cell_type": "code",
   "execution_count": 3,
   "metadata": {},
   "outputs": [
    {
     "data": {
      "text/html": [
       "<div>\n",
       "<style scoped>\n",
       "    .dataframe tbody tr th:only-of-type {\n",
       "        vertical-align: middle;\n",
       "    }\n",
       "\n",
       "    .dataframe tbody tr th {\n",
       "        vertical-align: top;\n",
       "    }\n",
       "\n",
       "    .dataframe thead th {\n",
       "        text-align: right;\n",
       "    }\n",
       "</style>\n",
       "<table border=\"1\" class=\"dataframe\">\n",
       "  <thead>\n",
       "    <tr style=\"text-align: right;\">\n",
       "      <th></th>\n",
       "      <th>Water_sat</th>\n",
       "      <th>Temp</th>\n",
       "      <th>Oil_viscosity</th>\n",
       "      <th>Perm_k</th>\n",
       "      <th>Swi</th>\n",
       "      <th>Flow_rate</th>\n",
       "      <th>Rel_perm_o</th>\n",
       "      <th>Rel_perm_w</th>\n",
       "    </tr>\n",
       "  </thead>\n",
       "  <tbody>\n",
       "    <tr>\n",
       "      <th>0</th>\n",
       "      <td>0.196679</td>\n",
       "      <td>80</td>\n",
       "      <td>13.46425</td>\n",
       "      <td>5.01</td>\n",
       "      <td>0.21</td>\n",
       "      <td>0.5</td>\n",
       "      <td>1.000000</td>\n",
       "      <td>0.000000e+00</td>\n",
       "    </tr>\n",
       "    <tr>\n",
       "      <th>1</th>\n",
       "      <td>0.210624</td>\n",
       "      <td>80</td>\n",
       "      <td>13.46425</td>\n",
       "      <td>5.01</td>\n",
       "      <td>0.21</td>\n",
       "      <td>0.5</td>\n",
       "      <td>0.921935</td>\n",
       "      <td>1.075810e-10</td>\n",
       "    </tr>\n",
       "    <tr>\n",
       "      <th>2</th>\n",
       "      <td>0.224570</td>\n",
       "      <td>80</td>\n",
       "      <td>13.46425</td>\n",
       "      <td>5.01</td>\n",
       "      <td>0.21</td>\n",
       "      <td>0.5</td>\n",
       "      <td>0.848511</td>\n",
       "      <td>5.856070e-09</td>\n",
       "    </tr>\n",
       "    <tr>\n",
       "      <th>3</th>\n",
       "      <td>0.238515</td>\n",
       "      <td>80</td>\n",
       "      <td>13.46425</td>\n",
       "      <td>5.01</td>\n",
       "      <td>0.21</td>\n",
       "      <td>0.5</td>\n",
       "      <td>0.779542</td>\n",
       "      <td>6.067730e-08</td>\n",
       "    </tr>\n",
       "    <tr>\n",
       "      <th>4</th>\n",
       "      <td>0.252460</td>\n",
       "      <td>80</td>\n",
       "      <td>13.46425</td>\n",
       "      <td>5.01</td>\n",
       "      <td>0.21</td>\n",
       "      <td>0.5</td>\n",
       "      <td>0.714845</td>\n",
       "      <td>3.187700e-07</td>\n",
       "    </tr>\n",
       "  </tbody>\n",
       "</table>\n",
       "</div>"
      ],
      "text/plain": [
       "   Water_sat  Temp  Oil_viscosity  Perm_k   Swi  Flow_rate  Rel_perm_o  \\\n",
       "0   0.196679    80       13.46425    5.01  0.21        0.5    1.000000   \n",
       "1   0.210624    80       13.46425    5.01  0.21        0.5    0.921935   \n",
       "2   0.224570    80       13.46425    5.01  0.21        0.5    0.848511   \n",
       "3   0.238515    80       13.46425    5.01  0.21        0.5    0.779542   \n",
       "4   0.252460    80       13.46425    5.01  0.21        0.5    0.714845   \n",
       "\n",
       "     Rel_perm_w  \n",
       "0  0.000000e+00  \n",
       "1  1.075810e-10  \n",
       "2  5.856070e-09  \n",
       "3  6.067730e-08  \n",
       "4  3.187700e-07  "
      ]
     },
     "execution_count": 3,
     "metadata": {},
     "output_type": "execute_result"
    }
   ],
   "source": [
    "#exploratory data analysis (EDA)\n",
    "df.head()"
   ]
  },
  {
   "cell_type": "code",
   "execution_count": 4,
   "metadata": {},
   "outputs": [
    {
     "data": {
      "text/html": [
       "<div>\n",
       "<style scoped>\n",
       "    .dataframe tbody tr th:only-of-type {\n",
       "        vertical-align: middle;\n",
       "    }\n",
       "\n",
       "    .dataframe tbody tr th {\n",
       "        vertical-align: top;\n",
       "    }\n",
       "\n",
       "    .dataframe thead th {\n",
       "        text-align: right;\n",
       "    }\n",
       "</style>\n",
       "<table border=\"1\" class=\"dataframe\">\n",
       "  <thead>\n",
       "    <tr style=\"text-align: right;\">\n",
       "      <th></th>\n",
       "      <th>Water_sat</th>\n",
       "      <th>Temp</th>\n",
       "      <th>Oil_viscosity</th>\n",
       "      <th>Perm_k</th>\n",
       "      <th>Swi</th>\n",
       "      <th>Flow_rate</th>\n",
       "      <th>Rel_perm_o</th>\n",
       "      <th>Rel_perm_w</th>\n",
       "    </tr>\n",
       "  </thead>\n",
       "  <tbody>\n",
       "    <tr>\n",
       "      <th>count</th>\n",
       "      <td>900.000000</td>\n",
       "      <td>900.000000</td>\n",
       "      <td>900.000000</td>\n",
       "      <td>900.000000</td>\n",
       "      <td>900.000000</td>\n",
       "      <td>900.000000</td>\n",
       "      <td>900.000000</td>\n",
       "      <td>900.000000</td>\n",
       "    </tr>\n",
       "    <tr>\n",
       "      <th>mean</th>\n",
       "      <td>0.523384</td>\n",
       "      <td>60.000000</td>\n",
       "      <td>38.073744</td>\n",
       "      <td>5.545556</td>\n",
       "      <td>0.210556</td>\n",
       "      <td>0.750000</td>\n",
       "      <td>0.135423</td>\n",
       "      <td>0.168796</td>\n",
       "    </tr>\n",
       "    <tr>\n",
       "      <th>std</th>\n",
       "      <td>0.190009</td>\n",
       "      <td>16.339011</td>\n",
       "      <td>25.619674</td>\n",
       "      <td>0.785316</td>\n",
       "      <td>0.052467</td>\n",
       "      <td>0.204238</td>\n",
       "      <td>0.238172</td>\n",
       "      <td>0.213096</td>\n",
       "    </tr>\n",
       "    <tr>\n",
       "      <th>min</th>\n",
       "      <td>0.107445</td>\n",
       "      <td>40.000000</td>\n",
       "      <td>13.464250</td>\n",
       "      <td>4.590000</td>\n",
       "      <td>0.110000</td>\n",
       "      <td>0.500000</td>\n",
       "      <td>0.000000</td>\n",
       "      <td>0.000000</td>\n",
       "    </tr>\n",
       "    <tr>\n",
       "      <th>25%</th>\n",
       "      <td>0.363984</td>\n",
       "      <td>40.000000</td>\n",
       "      <td>19.291038</td>\n",
       "      <td>5.020000</td>\n",
       "      <td>0.170000</td>\n",
       "      <td>0.500000</td>\n",
       "      <td>0.000487</td>\n",
       "      <td>0.003388</td>\n",
       "    </tr>\n",
       "    <tr>\n",
       "      <th>50%</th>\n",
       "      <td>0.524354</td>\n",
       "      <td>60.000000</td>\n",
       "      <td>32.023564</td>\n",
       "      <td>5.200000</td>\n",
       "      <td>0.235000</td>\n",
       "      <td>0.750000</td>\n",
       "      <td>0.016216</td>\n",
       "      <td>0.061889</td>\n",
       "    </tr>\n",
       "    <tr>\n",
       "      <th>75%</th>\n",
       "      <td>0.683675</td>\n",
       "      <td>80.000000</td>\n",
       "      <td>37.864132</td>\n",
       "      <td>6.010000</td>\n",
       "      <td>0.250000</td>\n",
       "      <td>1.000000</td>\n",
       "      <td>0.148150</td>\n",
       "      <td>0.283415</td>\n",
       "    </tr>\n",
       "    <tr>\n",
       "      <th>max</th>\n",
       "      <td>0.889211</td>\n",
       "      <td>80.000000</td>\n",
       "      <td>83.552248</td>\n",
       "      <td>7.120000</td>\n",
       "      <td>0.280000</td>\n",
       "      <td>1.000000</td>\n",
       "      <td>1.000000</td>\n",
       "      <td>0.959514</td>\n",
       "    </tr>\n",
       "  </tbody>\n",
       "</table>\n",
       "</div>"
      ],
      "text/plain": [
       "        Water_sat        Temp  Oil_viscosity      Perm_k         Swi  \\\n",
       "count  900.000000  900.000000     900.000000  900.000000  900.000000   \n",
       "mean     0.523384   60.000000      38.073744    5.545556    0.210556   \n",
       "std      0.190009   16.339011      25.619674    0.785316    0.052467   \n",
       "min      0.107445   40.000000      13.464250    4.590000    0.110000   \n",
       "25%      0.363984   40.000000      19.291038    5.020000    0.170000   \n",
       "50%      0.524354   60.000000      32.023564    5.200000    0.235000   \n",
       "75%      0.683675   80.000000      37.864132    6.010000    0.250000   \n",
       "max      0.889211   80.000000      83.552248    7.120000    0.280000   \n",
       "\n",
       "        Flow_rate  Rel_perm_o  Rel_perm_w  \n",
       "count  900.000000  900.000000  900.000000  \n",
       "mean     0.750000    0.135423    0.168796  \n",
       "std      0.204238    0.238172    0.213096  \n",
       "min      0.500000    0.000000    0.000000  \n",
       "25%      0.500000    0.000487    0.003388  \n",
       "50%      0.750000    0.016216    0.061889  \n",
       "75%      1.000000    0.148150    0.283415  \n",
       "max      1.000000    1.000000    0.959514  "
      ]
     },
     "execution_count": 4,
     "metadata": {},
     "output_type": "execute_result"
    }
   ],
   "source": [
    "import seaborn as sns\n",
    "df.describe()"
   ]
  },
  {
   "cell_type": "code",
   "execution_count": 5,
   "metadata": {},
   "outputs": [
    {
     "data": {
      "text/plain": [
       "<matplotlib.axes._subplots.AxesSubplot at 0x11996a10>"
      ]
     },
     "execution_count": 5,
     "metadata": {},
     "output_type": "execute_result"
    },
    {
     "data": {
      "image/png": "[encoded data removed]",
      "text/plain": [
       "<Figure size 720x504 with 2 Axes>"
      ]
     },
     "metadata": {
      "needs_background": "light"
     },
     "output_type": "display_data"
    }
   ],
   "source": [
    "#You can also plot a heat map to understand how each feature correlates to the other (Do they go hand in hand or are they inversely propotional)\n",
    "f= plt.subplots(figsize=(10,7))\n",
    "\n",
    "sns.heatmap(df.corr(),annot=True,fmt='.1f',color='green')  #We can use a simple seaborn method to draw the heatmaps"
   ]
  },
  {
   "cell_type": "code",
   "execution_count": 6,
   "metadata": {},
   "outputs": [],
   "source": [
    "#The next step is to find a pattern in the scatter plots to be able to use Support Vector Machines and finding the fault line of the Earthquakes\n",
    "\n",
    "#pd.plotting.scatter_matrix(df.loc[0:,df.columns],c=['red','blue'],alpha=0.5,figsize=[25,25],diagonal='hist',s=200,marker='.',edgecolor='black')\n",
    "plt.show()"
   ]
  },
  {
   "cell_type": "markdown",
   "metadata": {},
   "source": [
    "# separate the dataset for oil and water"
   ]
  },
  {
   "cell_type": "code",
   "execution_count": 7,
   "metadata": {},
   "outputs": [],
   "source": [
    "dfo = df.iloc[:, 0:-1]"
   ]
  },
  {
   "cell_type": "code",
   "execution_count": 8,
   "metadata": {
    "scrolled": true
   },
   "outputs": [
    {
     "data": {
      "text/html": [
       "<div>\n",
       "<style scoped>\n",
       "    .dataframe tbody tr th:only-of-type {\n",
       "        vertical-align: middle;\n",
       "    }\n",
       "\n",
       "    .dataframe tbody tr th {\n",
       "        vertical-align: top;\n",
       "    }\n",
       "\n",
       "    .dataframe thead th {\n",
       "        text-align: right;\n",
       "    }\n",
       "</style>\n",
       "<table border=\"1\" class=\"dataframe\">\n",
       "  <thead>\n",
       "    <tr style=\"text-align: right;\">\n",
       "      <th></th>\n",
       "      <th>Water_sat</th>\n",
       "      <th>Temp</th>\n",
       "      <th>Oil_viscosity</th>\n",
       "      <th>Perm_k</th>\n",
       "      <th>Swi</th>\n",
       "      <th>Flow_rate</th>\n",
       "      <th>Rel_perm_o</th>\n",
       "    </tr>\n",
       "  </thead>\n",
       "  <tbody>\n",
       "    <tr>\n",
       "      <th>0</th>\n",
       "      <td>0.196679</td>\n",
       "      <td>80</td>\n",
       "      <td>13.46425</td>\n",
       "      <td>5.01</td>\n",
       "      <td>0.21</td>\n",
       "      <td>0.5</td>\n",
       "      <td>1.000000</td>\n",
       "    </tr>\n",
       "    <tr>\n",
       "      <th>1</th>\n",
       "      <td>0.210624</td>\n",
       "      <td>80</td>\n",
       "      <td>13.46425</td>\n",
       "      <td>5.01</td>\n",
       "      <td>0.21</td>\n",
       "      <td>0.5</td>\n",
       "      <td>0.921935</td>\n",
       "    </tr>\n",
       "    <tr>\n",
       "      <th>2</th>\n",
       "      <td>0.224570</td>\n",
       "      <td>80</td>\n",
       "      <td>13.46425</td>\n",
       "      <td>5.01</td>\n",
       "      <td>0.21</td>\n",
       "      <td>0.5</td>\n",
       "      <td>0.848511</td>\n",
       "    </tr>\n",
       "    <tr>\n",
       "      <th>3</th>\n",
       "      <td>0.238515</td>\n",
       "      <td>80</td>\n",
       "      <td>13.46425</td>\n",
       "      <td>5.01</td>\n",
       "      <td>0.21</td>\n",
       "      <td>0.5</td>\n",
       "      <td>0.779542</td>\n",
       "    </tr>\n",
       "    <tr>\n",
       "      <th>4</th>\n",
       "      <td>0.252460</td>\n",
       "      <td>80</td>\n",
       "      <td>13.46425</td>\n",
       "      <td>5.01</td>\n",
       "      <td>0.21</td>\n",
       "      <td>0.5</td>\n",
       "      <td>0.714845</td>\n",
       "    </tr>\n",
       "  </tbody>\n",
       "</table>\n",
       "</div>"
      ],
      "text/plain": [
       "   Water_sat  Temp  Oil_viscosity  Perm_k   Swi  Flow_rate  Rel_perm_o\n",
       "0   0.196679    80       13.46425    5.01  0.21        0.5    1.000000\n",
       "1   0.210624    80       13.46425    5.01  0.21        0.5    0.921935\n",
       "2   0.224570    80       13.46425    5.01  0.21        0.5    0.848511\n",
       "3   0.238515    80       13.46425    5.01  0.21        0.5    0.779542\n",
       "4   0.252460    80       13.46425    5.01  0.21        0.5    0.714845"
      ]
     },
     "execution_count": 8,
     "metadata": {},
     "output_type": "execute_result"
    }
   ],
   "source": [
    "dfo.head()"
   ]
  },
  {
   "cell_type": "code",
   "execution_count": 9,
   "metadata": {},
   "outputs": [],
   "source": [
    "dfw = df.iloc[:, [0,1,2,3,4,5,7]]"
   ]
  },
  {
   "cell_type": "code",
   "execution_count": 10,
   "metadata": {},
   "outputs": [
    {
     "data": {
      "text/html": [
       "<div>\n",
       "<style scoped>\n",
       "    .dataframe tbody tr th:only-of-type {\n",
       "        vertical-align: middle;\n",
       "    }\n",
       "\n",
       "    .dataframe tbody tr th {\n",
       "        vertical-align: top;\n",
       "    }\n",
       "\n",
       "    .dataframe thead th {\n",
       "        text-align: right;\n",
       "    }\n",
       "</style>\n",
       "<table border=\"1\" class=\"dataframe\">\n",
       "  <thead>\n",
       "    <tr style=\"text-align: right;\">\n",
       "      <th></th>\n",
       "      <th>Water_sat</th>\n",
       "      <th>Temp</th>\n",
       "      <th>Oil_viscosity</th>\n",
       "      <th>Perm_k</th>\n",
       "      <th>Swi</th>\n",
       "      <th>Flow_rate</th>\n",
       "      <th>Rel_perm_w</th>\n",
       "    </tr>\n",
       "  </thead>\n",
       "  <tbody>\n",
       "    <tr>\n",
       "      <th>0</th>\n",
       "      <td>0.196679</td>\n",
       "      <td>80</td>\n",
       "      <td>13.46425</td>\n",
       "      <td>5.01</td>\n",
       "      <td>0.21</td>\n",
       "      <td>0.5</td>\n",
       "      <td>0.000000e+00</td>\n",
       "    </tr>\n",
       "    <tr>\n",
       "      <th>1</th>\n",
       "      <td>0.210624</td>\n",
       "      <td>80</td>\n",
       "      <td>13.46425</td>\n",
       "      <td>5.01</td>\n",
       "      <td>0.21</td>\n",
       "      <td>0.5</td>\n",
       "      <td>1.075810e-10</td>\n",
       "    </tr>\n",
       "    <tr>\n",
       "      <th>2</th>\n",
       "      <td>0.224570</td>\n",
       "      <td>80</td>\n",
       "      <td>13.46425</td>\n",
       "      <td>5.01</td>\n",
       "      <td>0.21</td>\n",
       "      <td>0.5</td>\n",
       "      <td>5.856070e-09</td>\n",
       "    </tr>\n",
       "    <tr>\n",
       "      <th>3</th>\n",
       "      <td>0.238515</td>\n",
       "      <td>80</td>\n",
       "      <td>13.46425</td>\n",
       "      <td>5.01</td>\n",
       "      <td>0.21</td>\n",
       "      <td>0.5</td>\n",
       "      <td>6.067730e-08</td>\n",
       "    </tr>\n",
       "    <tr>\n",
       "      <th>4</th>\n",
       "      <td>0.252460</td>\n",
       "      <td>80</td>\n",
       "      <td>13.46425</td>\n",
       "      <td>5.01</td>\n",
       "      <td>0.21</td>\n",
       "      <td>0.5</td>\n",
       "      <td>3.187700e-07</td>\n",
       "    </tr>\n",
       "  </tbody>\n",
       "</table>\n",
       "</div>"
      ],
      "text/plain": [
       "   Water_sat  Temp  Oil_viscosity  Perm_k   Swi  Flow_rate    Rel_perm_w\n",
       "0   0.196679    80       13.46425    5.01  0.21        0.5  0.000000e+00\n",
       "1   0.210624    80       13.46425    5.01  0.21        0.5  1.075810e-10\n",
       "2   0.224570    80       13.46425    5.01  0.21        0.5  5.856070e-09\n",
       "3   0.238515    80       13.46425    5.01  0.21        0.5  6.067730e-08\n",
       "4   0.252460    80       13.46425    5.01  0.21        0.5  3.187700e-07"
      ]
     },
     "execution_count": 10,
     "metadata": {},
     "output_type": "execute_result"
    }
   ],
   "source": [
    "dfw.head()"
   ]
  },
  {
   "cell_type": "markdown",
   "metadata": {},
   "source": [
    "# Oil data modelling"
   ]
  },
  {
   "cell_type": "code",
   "execution_count": 11,
   "metadata": {},
   "outputs": [],
   "source": [
    "#setting independent variables as X and dependent varibale as y\n",
    "X= dfo.iloc[:,:-1]    \n",
    "y = dfo.iloc[:, -1]"
   ]
  },
  {
   "cell_type": "code",
   "execution_count": 12,
   "metadata": {},
   "outputs": [],
   "source": [
    "#normalizing the dataset\n",
    "scaler = MinMaxScaler(feature_range=(0, 1))\n",
    "X = scaler.fit_transform(X)"
   ]
  },
  {
   "cell_type": "markdown",
   "metadata": {},
   "source": [
    "## Shuffle the data"
   ]
  },
  {
   "cell_type": "code",
   "execution_count": 13,
   "metadata": {},
   "outputs": [],
   "source": [
    "seed = 42\n",
    "X, y = shuffle(X, y, random_state=seed)"
   ]
  },
  {
   "cell_type": "code",
   "execution_count": 14,
   "metadata": {},
   "outputs": [
    {
     "name": "stdout",
     "output_type": "stream",
     "text": [
      "('MAE :', 0.11245500175809538, '| RMSE :', 0.1681098239036041)\n"
     ]
    }
   ],
   "source": [
    "def svr_model(X, y):\n",
    "    gsc = GridSearchCV(\n",
    "        estimator=SVR(kernel='linear'),\n",
    "        param_grid={\n",
    "            'C': [0.1, 1, 100, 1000],\n",
    "            'epsilon': [0.0001, 0.0005, 0.001, 0.005, 0.01, 0.05, 0.1, 0.5, 1, 5, 10],\n",
    "        },\n",
    "        cv=5, scoring='neg_mean_squared_error', verbose=0, n_jobs=-1)\n",
    "\n",
    "    grid_result = gsc.fit(X, y)\n",
    "\n",
    "\n",
    "    best_params = grid_result.best_params_\n",
    "    best_svr = SVR(kernel='linear', C=best_params[\"C\"], epsilon=best_params[\"epsilon\"], coef0=0.1, shrinking=True,\n",
    "                   tol=0.001, cache_size=200, verbose=False, max_iter=-1)\n",
    "\n",
    "    scoring = {\n",
    "               'abs_error': 'neg_mean_absolute_error',\n",
    "               'squared_error': 'neg_mean_squared_error'}\n",
    "\n",
    "    scores = cross_validate(best_svr, X, y, cv=10, scoring=scoring, return_train_score=True)\n",
    "    return \"MAE :\", abs(scores['test_abs_error'].mean()), \"| RMSE :\", math.sqrt(abs(scores['test_squared_error'].mean()))\n",
    "# Run \n",
    "print(svr_model(X,y))"
   ]
  },
  {
   "cell_type": "code",
   "execution_count": 21,
   "metadata": {},
   "outputs": [
    {
     "data": {
      "text/plain": [
       "('MAE :', 0.11245500175809538, '| RMSE :', 0.1681098239036041)"
      ]
     },
     "execution_count": 21,
     "metadata": {},
     "output_type": "execute_result"
    }
   ],
   "source": [
    "svr_model(X,y)"
   ]
  },
  {
   "cell_type": "code",
   "execution_count": 16,
   "metadata": {},
   "outputs": [
    {
     "data": {
      "text/plain": [
       "\"from sklearn.model_selection import cross_val_predict\\n# cross_val_predict returns an array of the same size as `y` where each entry\\n# is a prediction obtained by cross validation:\\npredicted = cross_val_predict(svr_model, X, y, cv=10)\\n\\nfig, ax = plt.subplots()\\nax.scatter(y, predicted)\\nax.plot([y.min(), y.max()], [y.min(), y.max()], 'k--', lw=4)\\nax.set_xlabel('Measured')\\nax.set_ylabel('Predicted')\\nplt.show()\""
      ]
     },
     "execution_count": 16,
     "metadata": {},
     "output_type": "execute_result"
    }
   ],
   "source": [
    "'''from sklearn.model_selection import cross_val_predict\n",
    "# cross_val_predict returns an array of the same size as `y` where each entry\n",
    "# is a prediction obtained by cross validation:\n",
    "predicted = cross_val_predict(svr_model, X, y, cv=10)\n",
    "\n",
    "fig, ax = plt.subplots()\n",
    "ax.scatter(y, predicted)\n",
    "ax.plot([y.min(), y.max()], [y.min(), y.max()], 'k--', lw=4)\n",
    "ax.set_xlabel('Measured')\n",
    "ax.set_ylabel('Predicted')\n",
    "plt.show()'''"
   ]
  },
  {
   "cell_type": "markdown",
   "metadata": {},
   "source": [
    "# water data modelling"
   ]
  },
  {
   "cell_type": "code",
   "execution_count": 35,
   "metadata": {},
   "outputs": [],
   "source": [
    "#setting independent variables as X and dependent varibale as y\n",
    "X= dfw.iloc[:,:-1]    \n",
    "y = dfw.iloc[:, -1]"
   ]
  },
  {
   "cell_type": "code",
   "execution_count": 36,
   "metadata": {},
   "outputs": [],
   "source": [
    "#normalizing the dataset\n",
    "scaler = MinMaxScaler(feature_range=(0, 1))\n",
    "X = scaler.fit_transform(X)"
   ]
  },
  {
   "cell_type": "markdown",
   "metadata": {},
   "source": [
    "## shuffle that data"
   ]
  },
  {
   "cell_type": "code",
   "execution_count": 37,
   "metadata": {},
   "outputs": [],
   "source": [
    "seed = 42\n",
    "X, y = shuffle(X, y, random_state=seed)"
   ]
  },
  {
   "cell_type": "code",
   "execution_count": 39,
   "metadata": {},
   "outputs": [
    {
     "name": "stdout",
     "output_type": "stream",
     "text": [
      "('MAE :', 0.08962314779386839, '| RMSE :', 0.12158072147730223)\n"
     ]
    }
   ],
   "source": [
    "def svr_model(X, y):\n",
    "    gsc = GridSearchCV(\n",
    "        estimator=SVR(kernel='rbf'),\n",
    "        param_grid={\n",
    "            'C': [0.1, 1, 100, 1000],\n",
    "            'epsilon': [0.0001, 0.0005, 0.001, 0.005, 0.01, 0.05, 0.1, 0.5, 1, 5, 10],\n",
    "        },\n",
    "        cv=5, scoring='neg_mean_squared_error', verbose=0, n_jobs=-1)\n",
    "\n",
    "    grid_result = gsc.fit(X, y)\n",
    "\n",
    "\n",
    "    best_params = grid_result.best_params_\n",
    "    best_svr = SVR(kernel='linear', C=best_params[\"C\"], epsilon=best_params[\"epsilon\"], coef0=0.1, shrinking=True,\n",
    "                   tol=0.001, cache_size=200, verbose=False, max_iter=-1)\n",
    "\n",
    "    scoring = {\n",
    "               'abs_error': 'neg_mean_absolute_error',\n",
    "               'squared_error': 'neg_mean_squared_error'}\n",
    "\n",
    "    scores = cross_validate(best_svr, X, y, cv=10, scoring=scoring, return_train_score=True)\n",
    "    return \"MAE :\", abs(scores['test_abs_error'].mean()), \"| RMSE :\", math.sqrt(abs(scores['test_squared_error'].mean()))\n",
    "# Run \n",
    "print(svr_model(X,y))"
   ]
  }
 ],
 "metadata": {
  "kernelspec": {
   "display_name": "Python 3",
   "language": "python",
   "name": "python3"
  },
  "language_info": {
   "codemirror_mode": {
    "name": "ipython",
    "version": 3
   },
   "file_extension": ".py",
   "mimetype": "text/x-python",
   "name": "python",
   "nbconvert_exporter": "python",
   "pygments_lexer": "ipython3",
   "version": "3.8.3"
  }
 },
 "nbformat": 4,
 "nbformat_minor": 2
}
